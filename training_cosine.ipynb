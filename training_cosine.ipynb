{
 "cells": [
  {
   "cell_type": "markdown",
   "id": "45857777",
   "metadata": {},
   "source": [
    "### Model 준비과정"
   ]
  },
  {
   "cell_type": "code",
   "execution_count": 1,
   "id": "ff824c16",
   "metadata": {},
   "outputs": [
    {
     "name": "stdout",
     "output_type": "stream",
     "text": [
      "Random seed set to 42\n"
     ]
    }
   ],
   "source": [
    "import torch\n",
    "from sklearn.model_selection import train_test_split\n",
    "from transformers import AutoTokenizer, AutoModelForCausalLM, DataCollatorForLanguageModeling\n",
    "from peft import LoraConfig, get_peft_model, TaskType\n",
    "import random\n",
    "import numpy as np\n",
    "\n",
    "# 1. 스크립트 최상단에서 랜덤 시드 고정 함수 정의 및 실행\n",
    "def set_seed(seed):\n",
    "    random.seed(seed)\n",
    "    np.random.seed(seed)\n",
    "    torch.manual_seed(seed)\n",
    "    if torch.cuda.is_available():\n",
    "        torch.cuda.manual_seed(seed)\n",
    "        torch.cuda.manual_seed_all(seed) # for multi-GPU\n",
    "    print(f\"Random seed set to {seed}\")\n",
    "\n",
    "# 원하는 시드 값으로 설정 (이 숫자를 바꾸지 않는 한 항상 동일하게 초기화됨)\n",
    "SEED = 42\n",
    "set_seed(SEED)\n",
    "\n",
    "# 사용할 모델의 Hugging Face 저장소 이름\n",
    "model_name = \"Qwen/Qwen2.5-Coder-1.5B-Instruct\""
   ]
  },
  {
   "cell_type": "code",
   "execution_count": 2,
   "id": "0cc905f8",
   "metadata": {},
   "outputs": [
    {
     "name": "stderr",
     "output_type": "stream",
     "text": [
      "Sliding Window Attention is enabled but not implemented for `sdpa`; unexpected results may be encountered.\n"
     ]
    },
    {
     "name": "stdout",
     "output_type": "stream",
     "text": [
      "모델과 토크나이저를 성공적으로 불러왔습니다.\n"
     ]
    }
   ],
   "source": [
    "model = AutoModelForCausalLM.from_pretrained(\n",
    "    model_name,\n",
    "    device_map=\"auto\",  # 사용 가능한 GPU에 모델을 자동으로 할당합니다.\n",
    "    torch_dtype=torch.bfloat16,  # 모델을 float16으로 로드합니다.\n",
    "    trust_remote_code=True,  # 원격 코드 신뢰 설정\n",
    ")\n",
    "\n",
    "# 해당 모델에 맞는 토크나이저 불러오기\n",
    "tokenizer = AutoTokenizer.from_pretrained(\n",
    "    model_name,\n",
    "    padding_side='left',\n",
    "    use_fast=True)\n",
    "\n",
    "print(\"모델과 토크나이저를 성공적으로 불러왔습니다.\")"
   ]
  },
  {
   "cell_type": "code",
   "execution_count": 3,
   "id": "813e2290",
   "metadata": {},
   "outputs": [],
   "source": [
    "model.generation_config.temperature = None\n",
    "model.generation_config.top_p = None\n",
    "model.generation_config.top_k = None"
   ]
  },
  {
   "cell_type": "code",
   "execution_count": 4,
   "id": "4c7b9304",
   "metadata": {},
   "outputs": [],
   "source": [
    "lora_config = LoraConfig(\n",
    "    r=8,  # LoRA 행렬의 rank (값이 클수록 파라미터 수가 늘어남)\n",
    "    lora_alpha=16,  # LoRA 스케일링 alpha (보통 r의 2배)\n",
    "    # Qwen2 아키텍처의 Attention 관련 레이어를 타겟으로 지정\n",
    "    target_modules=[\n",
    "        \"q_proj\",\n",
    "        \"k_proj\",\n",
    "        \"v_proj\",\n",
    "    ],\n",
    "    lora_dropout=0.0, # Dropout 비율\n",
    "    bias=\"none\", # bias는 학습하지 않음\n",
    "    task_type=TaskType.CAUSAL_LM,\n",
    ")"
   ]
  },
  {
   "cell_type": "code",
   "execution_count": 5,
   "id": "02103835",
   "metadata": {},
   "outputs": [
    {
     "name": "stdout",
     "output_type": "stream",
     "text": [
      "trainable params: 1,490,944 || all params: 1,545,205,248 || trainable%: 0.0965\n",
      "------------------------------\n"
     ]
    }
   ],
   "source": [
    "model.config.use_cache = False\n",
    "model = get_peft_model(model, lora_config)\n",
    "\n",
    "# 학습 가능한 파라미터 수 출력 (LoRA의 효율성 확인)\n",
    "model.print_trainable_parameters()\n",
    "print(\"-\" * 30)"
   ]
  },
  {
   "cell_type": "markdown",
   "id": "1d44f4a2",
   "metadata": {},
   "source": [
    "### Dataset 준비"
   ]
  },
  {
   "cell_type": "code",
   "execution_count": 6,
   "id": "b194f366",
   "metadata": {},
   "outputs": [],
   "source": [
    "import pandas as pd\n",
    "from datasets import Dataset\n",
    "from torch.utils.data import DataLoader"
   ]
  },
  {
   "cell_type": "code",
   "execution_count": 7,
   "id": "0f267bf3",
   "metadata": {},
   "outputs": [],
   "source": [
    "from transformers import default_data_collator\n",
    "from transformers import DataCollatorForLanguageModeling\n",
    "\n",
    "data_collator = DataCollatorForLanguageModeling(\n",
    "    tokenizer=tokenizer,\n",
    "    mlm=False  # causal language modeling\n",
    ")"
   ]
  },
  {
   "cell_type": "code",
   "execution_count": 8,
   "id": "fba4eafd",
   "metadata": {},
   "outputs": [
    {
     "data": {
      "application/vnd.jupyter.widget-view+json": {
       "model_id": "a1f8fbd59a3c436f88b47c15924891e9",
       "version_major": 2,
       "version_minor": 0
      },
      "text/plain": [
       "Map:   0%|          | 0/788 [00:00<?, ? examples/s]"
      ]
     },
     "metadata": {},
     "output_type": "display_data"
    },
    {
     "data": {
      "application/vnd.jupyter.widget-view+json": {
       "model_id": "b16e16fb0a8742fc918c2ef0a2ec56ce",
       "version_major": 2,
       "version_minor": 0
      },
      "text/plain": [
       "Map:   0%|          | 0/788 [00:00<?, ? examples/s]"
      ]
     },
     "metadata": {},
     "output_type": "display_data"
    }
   ],
   "source": [
    "df = pd.read_excel(\"data.xlsx\")\n",
    "df[\"system\"] = df[\"system\"].fillna(\"\")  # system 결측값 처리\n",
    "# 3. Train과 Validation으로 데이터 분할\n",
    "train_df = df.sample(frac=0.8, random_state=42)  # 80% Train\n",
    "val_df = df.drop(train_df.index)  # 나머지 20% Validation\n",
    "\n",
    "def convert_to_chat_format(row):\n",
    "    return [\n",
    "        {\"role\": \"system\", \"content\": row[\"system\"]},\n",
    "        {\"role\": \"user\", \"content\": row[\"instruction\"]},\n",
    "        {\"role\": \"assistant\", \"content\": row[\"response\"]}\n",
    "    ]\n",
    "\n",
    "train_chat_data = [convert_to_chat_format(row) for _, row in train_df.iterrows()]\n",
    "train_dataset = Dataset.from_dict({\"conversations\": train_chat_data})\n",
    "\n",
    "def apply_chat_template_to_dataset(example):\n",
    "    # conversations 하나씩 처리\n",
    "    conversation = example[\"conversations\"]\n",
    "    \n",
    "    # apply_chat_template 적용\n",
    "    formatted_text = tokenizer.apply_chat_template(\n",
    "        conversation,\n",
    "        tokenize=False,  # 아직 토크나이징하지 않고 텍스트만\n",
    "        add_generation_prompt=False  # 학습용이므로 generation prompt 불필요\n",
    "    )\n",
    "    \n",
    "    return {\"text\": formatted_text}\n",
    "\n",
    "# 채팅 템플릿 적용\n",
    "formatted_dataset = train_dataset.map(apply_chat_template_to_dataset)\n",
    "\n",
    "def tokenize_function(examples):\n",
    "    # 이제 formatted_text들을 실제로 토크나이징\n",
    "    tokenized = tokenizer(\n",
    "        examples[\"text\"],\n",
    "        truncation=True,\n",
    "        padding=True,\n",
    "        max_length=512,  # 필요에 따라 조정\n",
    "        return_tensors=None\n",
    "    )\n",
    "    \n",
    "    # labels는 input_ids와 동일하게 설정\n",
    "    tokenized[\"labels\"] = tokenized[\"input_ids\"]\n",
    "    \n",
    "    return tokenized\n",
    "\n",
    "# 토크나이징 적용\n",
    "tokenized_dataset = formatted_dataset.map(\n",
    "    tokenize_function,\n",
    "    batched=True,  # 배치 단위로 처리 (더 효율적)\n",
    "    remove_columns=formatted_dataset.column_names  # 기존 컬럼들 제거 (text 컬럼 등)\n",
    ")"
   ]
  },
  {
   "cell_type": "code",
   "execution_count": 9,
   "id": "0d01d65f",
   "metadata": {},
   "outputs": [],
   "source": [
    "from torch.utils.data import DataLoader\n",
    "\n",
    "train_loader = DataLoader(\n",
    "    tokenized_dataset,\n",
    "    batch_size=4,\n",
    "    shuffle=True,\n",
    "    num_workers=2,\n",
    "    pin_memory=True,\n",
    "    collate_fn=data_collator \n",
    ")"
   ]
  },
  {
   "cell_type": "code",
   "execution_count": 10,
   "id": "d1576f4e",
   "metadata": {},
   "outputs": [
    {
     "data": {
      "application/vnd.jupyter.widget-view+json": {
       "model_id": "8c33ecfb58b84b19be3cfd3d52f47db9",
       "version_major": 2,
       "version_minor": 0
      },
      "text/plain": [
       "Map:   0%|          | 0/197 [00:00<?, ? examples/s]"
      ]
     },
     "metadata": {},
     "output_type": "display_data"
    },
    {
     "data": {
      "application/vnd.jupyter.widget-view+json": {
       "model_id": "cabaf694c11849569bd9c3983d3ac434",
       "version_major": 2,
       "version_minor": 0
      },
      "text/plain": [
       "Map:   0%|          | 0/197 [00:00<?, ? examples/s]"
      ]
     },
     "metadata": {},
     "output_type": "display_data"
    }
   ],
   "source": [
    "def create_metric_format(row):\n",
    "    return {\n",
    "        \"input\": [\n",
    "            {\"role\": \"system\", \"content\": row[\"system\"]},\n",
    "            {\"role\": \"user\", \"content\": row[\"instruction\"]}\n",
    "        ],\n",
    "        \"target\": row[\"response\"]  # 정답 assistant 응답\n",
    "    }\n",
    "\n",
    "val_chat_data = [convert_to_chat_format(row) for _, row in val_df.iterrows()]\n",
    "val_dataset = Dataset.from_dict({\"conversations\": val_chat_data})\n",
    "\n",
    "val_metric_data = [create_metric_format(row) for _, row in val_df.iterrows()]\n",
    "val_metric_dataset = Dataset.from_dict({\n",
    "    \"input\": [item[\"input\"] for item in val_metric_data],\n",
    "    \"target\": [item[\"target\"] for item in val_metric_data]\n",
    "})\n",
    "\n",
    "\n",
    "# 채팅 템플릿 적용\n",
    "val_formatted_dataset = val_dataset.map(apply_chat_template_to_dataset)\n",
    "\n",
    "# 토크나이징 적용\n",
    "val_tokenized_dataset = val_formatted_dataset.map(\n",
    "    tokenize_function,\n",
    "    batched=True,\n",
    "    remove_columns=val_formatted_dataset.column_names\n",
    ")\n",
    "\n",
    "# Validation DataLoader 생성\n",
    "val_loader = DataLoader(\n",
    "    val_tokenized_dataset,\n",
    "    batch_size=2,\n",
    "    shuffle=False,  # validation은 섞지 않음\n",
    "    num_workers=2,\n",
    "    pin_memory=True,\n",
    "    collate_fn=data_collator\n",
    ")"
   ]
  },
  {
   "cell_type": "code",
   "execution_count": 11,
   "id": "b49c7fed",
   "metadata": {},
   "outputs": [],
   "source": [
    "# import evaluate\n",
    "# rouge = evaluate.load('rouge')"
   ]
  },
  {
   "cell_type": "markdown",
   "id": "4abfeb00",
   "metadata": {},
   "source": [
    "### 학습 준비"
   ]
  },
  {
   "cell_type": "code",
   "execution_count": 13,
   "id": "2bc43f3c",
   "metadata": {},
   "outputs": [],
   "source": [
    "from torch import nn\n",
    "from torch.optim import AdamW\n",
    "from torch.optim.lr_scheduler import CosineAnnealingLR"
   ]
  },
  {
   "cell_type": "code",
   "execution_count": 14,
   "id": "12f61ca1",
   "metadata": {},
   "outputs": [],
   "source": [
    "BASE_LR = 1e-5\n",
    "MAX_STEPS = 500\n",
    "EVAL_STEPS = 25"
   ]
  },
  {
   "cell_type": "code",
   "execution_count": 15,
   "id": "974a38b7",
   "metadata": {},
   "outputs": [],
   "source": [
    "trainable_params = [p for p in model.parameters() if p.requires_grad]\n",
    "param_groups = [{\"params\": [p]} for p in trainable_params]\n",
    "optimizer = AdamW(param_groups, lr=BASE_LR)\n",
    "scheduler = CosineAnnealingLR(optimizer=optimizer, T_max=MAX_STEPS)"
   ]
  },
  {
   "cell_type": "code",
   "execution_count": 16,
   "id": "afac953d",
   "metadata": {},
   "outputs": [
    {
     "name": "stderr",
     "output_type": "stream",
     "text": [
      "Overall Training Progress: 100%|██████████| 500/500 [16:32<00:00,  1.99s/it, train_loss=1.9682, val_loss=1.9139] \n"
     ]
    }
   ],
   "source": [
    "from tqdm import tqdm\n",
    "\n",
    "history = {\n",
    "    \"steps\": [],\n",
    "    \"train_loss\": [],\n",
    "    \"val_loss\": [],\n",
    "    }\n",
    "\n",
    "global_step = 0\n",
    "\n",
    "model.train()\n",
    "progress_bar = tqdm(total=MAX_STEPS, desc=\"Overall Training Progress\")\n",
    "\n",
    "while global_step < MAX_STEPS:\n",
    "    for batch_idx, batch in enumerate(train_loader):\n",
    "        if global_step >= MAX_STEPS:\n",
    "            break\n",
    "\n",
    "        batch = {k: v.to(model.device) for k, v in batch.items()}\n",
    "\n",
    "        # 1. forward\n",
    "        outputs = model(**batch)\n",
    "        loss = outputs.loss\n",
    "        loss.backward()\n",
    "\n",
    "        # 2. optimizer step\n",
    "        optimizer.step()\n",
    "        scheduler.step()\n",
    "        optimizer.zero_grad()\n",
    "\n",
    "        global_step += 1\n",
    "        progress_bar.update(1)\n",
    "\n",
    "        # 3. 정해진 스텝마다 평가\n",
    "        if global_step % EVAL_STEPS == 0:\n",
    "            avg_train_loss = loss.item()\n",
    "            history[\"steps\"].append(global_step)\n",
    "            history[\"train_loss\"].append(avg_train_loss)\n",
    "\n",
    "            # --- Validation Loss calculation ---\n",
    "            model.eval()\n",
    "            val_loss = 0.0\n",
    "\n",
    "            with torch.no_grad():\n",
    "                for val_batch in val_loader:\n",
    "                    val_batch = {k: v.to(model.device) for k, v in val_batch.items()}\n",
    "                    val_outputs = model(**val_batch)\n",
    "                    val_loss += val_outputs.loss.item()\n",
    "            \n",
    "            avg_val_loss = val_loss / len(val_loader)\n",
    "            history['val_loss'].append(avg_val_loss)\n",
    "\n",
    "            progress_bar.set_postfix(\n",
    "                train_loss=f\"{avg_train_loss:.4f}\",\n",
    "                val_loss=f\"{avg_val_loss:.4f}\",\n",
    "            )\n",
    "\n",
    "            model.train()\n",
    "\n",
    "progress_bar.close()"
   ]
  },
  {
   "cell_type": "code",
   "execution_count": 17,
   "id": "1b517248",
   "metadata": {},
   "outputs": [
    {
     "data": {
      "text/plain": [
       "['temp/training_history_cosine.pkl']"
      ]
     },
     "execution_count": 17,
     "metadata": {},
     "output_type": "execute_result"
    }
   ],
   "source": [
    "import joblib\n",
    "joblib.dump(history, \"temp/training_history_cosine.pkl\")"
   ]
  },
  {
   "cell_type": "code",
   "execution_count": 18,
   "id": "fba106c6",
   "metadata": {},
   "outputs": [],
   "source": [
    "# model.push_to_hub('kyu5787/robot_task_planning')"
   ]
  },
  {
   "cell_type": "code",
   "execution_count": 19,
   "id": "e45cbbc2",
   "metadata": {},
   "outputs": [
    {
     "data": {
      "text/plain": [
       "[<matplotlib.lines.Line2D at 0x2cf249f8140>]"
      ]
     },
     "execution_count": 19,
     "metadata": {},
     "output_type": "execute_result"
    },
    {
     "data": {
      "image/png": "[encoded data removed]",
      "text/plain": [
       "<Figure size 640x480 with 1 Axes>"
      ]
     },
     "metadata": {},
     "output_type": "display_data"
    }
   ],
   "source": [
    "import matplotlib.pyplot as plt\n",
    "plt.plot(history['train_loss'])\n",
    "plt.plot(history['val_loss'])"
   ]
  },
  {
   "cell_type": "code",
   "execution_count": 20,
   "id": "67607723",
   "metadata": {},
   "outputs": [],
   "source": [
    "import evaluate\n",
    "rouge = evaluate.load('rouge')"
   ]
  },
  {
   "cell_type": "code",
   "execution_count": 21,
   "id": "acd0195e",
   "metadata": {},
   "outputs": [
    {
     "name": "stderr",
     "output_type": "stream",
     "text": [
      "100%|██████████| 197/197 [04:48<00:00,  1.46s/it]\n"
     ]
    }
   ],
   "source": [
    "val_preds, val_refs = [], []\n",
    "\n",
    "for item in tqdm(val_metric_dataset):\n",
    "    chat_prompt = tokenizer.apply_chat_template(\n",
    "        item['input'],\n",
    "        tokenize=False,\n",
    "        add_generation_prompt=True\n",
    "    )\n",
    "    inputs = tokenizer(chat_prompt, return_tensors='pt').to(model.device)\n",
    "\n",
    "    with torch.no_grad():\n",
    "        generated_ids = model.generate(\n",
    "            **inputs,\n",
    "            max_new_tokens=128,\n",
    "            do_sample=False,\n",
    "            pad_token_id=tokenizer.pad_token_id\n",
    "        )\n",
    "    generated_text = tokenizer.decode(generated_ids[0], skip_special_tokens=True)\n",
    "    if \"assistant\\n\" in generated_text:\n",
    "        pred = generated_text.split(\"assistant\\n\", 1)[1].strip()\n",
    "    else:\n",
    "        pred = generated_text.strip()  # fallback\n",
    "    \n",
    "    val_preds.append(pred)\n",
    "    val_refs.append(item['target'])"
   ]
  },
  {
   "cell_type": "code",
   "execution_count": 25,
   "id": "4bbce1e8",
   "metadata": {},
   "outputs": [],
   "source": [
    "rouge_scores = rouge.compute(\n",
    "    predictions=val_preds,\n",
    "    references=val_refs,\n",
    "    use_stemmer=True\n",
    ")"
   ]
  },
  {
   "cell_type": "code",
   "execution_count": 26,
   "id": "5da3ef79",
   "metadata": {},
   "outputs": [
    {
     "data": {
      "text/plain": [
       "{'rouge1': np.float64(0.2095366259315898),\n",
       " 'rouge2': np.float64(0.09974649211433884),\n",
       " 'rougeL': np.float64(0.18851607400784096),\n",
       " 'rougeLsum': np.float64(0.20324492399778302)}"
      ]
     },
     "execution_count": 26,
     "metadata": {},
     "output_type": "execute_result"
    }
   ],
   "source": [
    "rouge_scores"
   ]
  },
  {
   "cell_type": "code",
   "execution_count": null,
   "id": "e59b60c4",
   "metadata": {},
   "outputs": [],
   "source": []
  }
 ],
 "metadata": {
  "kernelspec": {
   "display_name": "KG",
   "language": "python",
   "name": "python3"
  },
  "language_info": {
   "codemirror_mode": {
    "name": "ipython",
    "version": 3
   },
   "file_extension": ".py",
   "mimetype": "text/x-python",
   "name": "python",
   "nbconvert_exporter": "python",
   "pygments_lexer": "ipython3",
   "version": "3.12.9"
  }
 },
 "nbformat": 4,
 "nbformat_minor": 5
}
